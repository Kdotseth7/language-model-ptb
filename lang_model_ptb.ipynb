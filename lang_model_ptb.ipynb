{
 "cells": [
  {
   "cell_type": "code",
   "execution_count": 1,
   "id": "08f4d785",
   "metadata": {
    "colab": {
     "base_uri": "https://localhost:8080/"
    },
    "id": "08f4d785",
    "outputId": "9ac8c63c-9f2f-4ff4-d1a4-5f83ea57c37b"
   },
   "outputs": [
    {
     "name": "stdout",
     "output_type": "stream",
     "text": [
      "Looking in indexes: https://pypi.org/simple, https://us-python.pkg.dev/colab-wheels/public/simple/\n",
      "Requirement already satisfied: datasets in /usr/local/lib/python3.7/dist-packages (2.6.1)\n",
      "Requirement already satisfied: fsspec[http]>=2021.11.1 in /usr/local/lib/python3.7/dist-packages (from datasets) (2022.10.0)\n",
      "Requirement already satisfied: aiohttp in /usr/local/lib/python3.7/dist-packages (from datasets) (3.8.3)\n",
      "Requirement already satisfied: dill<0.3.6 in /usr/local/lib/python3.7/dist-packages (from datasets) (0.3.5.1)\n",
      "Requirement already satisfied: pyarrow>=6.0.0 in /usr/local/lib/python3.7/dist-packages (from datasets) (6.0.1)\n",
      "Requirement already satisfied: pandas in /usr/local/lib/python3.7/dist-packages (from datasets) (1.3.5)\n",
      "Requirement already satisfied: responses<0.19 in /usr/local/lib/python3.7/dist-packages (from datasets) (0.18.0)\n",
      "Requirement already satisfied: requests>=2.19.0 in /usr/local/lib/python3.7/dist-packages (from datasets) (2.23.0)\n",
      "Requirement already satisfied: numpy>=1.17 in /usr/local/lib/python3.7/dist-packages (from datasets) (1.21.6)\n",
      "Requirement already satisfied: huggingface-hub<1.0.0,>=0.2.0 in /usr/local/lib/python3.7/dist-packages (from datasets) (0.10.1)\n",
      "Requirement already satisfied: pyyaml>=5.1 in /usr/local/lib/python3.7/dist-packages (from datasets) (6.0)\n",
      "Requirement already satisfied: packaging in /usr/local/lib/python3.7/dist-packages (from datasets) (21.3)\n",
      "Requirement already satisfied: tqdm>=4.62.1 in /usr/local/lib/python3.7/dist-packages (from datasets) (4.64.1)\n",
      "Requirement already satisfied: importlib-metadata in /usr/local/lib/python3.7/dist-packages (from datasets) (4.13.0)\n",
      "Requirement already satisfied: xxhash in /usr/local/lib/python3.7/dist-packages (from datasets) (3.1.0)\n",
      "Requirement already satisfied: multiprocess in /usr/local/lib/python3.7/dist-packages (from datasets) (0.70.13)\n",
      "Requirement already satisfied: asynctest==0.13.0 in /usr/local/lib/python3.7/dist-packages (from aiohttp->datasets) (0.13.0)\n",
      "Requirement already satisfied: typing-extensions>=3.7.4 in /usr/local/lib/python3.7/dist-packages (from aiohttp->datasets) (4.1.1)\n",
      "Requirement already satisfied: multidict<7.0,>=4.5 in /usr/local/lib/python3.7/dist-packages (from aiohttp->datasets) (6.0.2)\n",
      "Requirement already satisfied: async-timeout<5.0,>=4.0.0a3 in /usr/local/lib/python3.7/dist-packages (from aiohttp->datasets) (4.0.2)\n",
      "Requirement already satisfied: attrs>=17.3.0 in /usr/local/lib/python3.7/dist-packages (from aiohttp->datasets) (22.1.0)\n",
      "Requirement already satisfied: frozenlist>=1.1.1 in /usr/local/lib/python3.7/dist-packages (from aiohttp->datasets) (1.3.3)\n",
      "Requirement already satisfied: yarl<2.0,>=1.0 in /usr/local/lib/python3.7/dist-packages (from aiohttp->datasets) (1.8.1)\n",
      "Requirement already satisfied: charset-normalizer<3.0,>=2.0 in /usr/local/lib/python3.7/dist-packages (from aiohttp->datasets) (2.1.1)\n",
      "Requirement already satisfied: aiosignal>=1.1.2 in /usr/local/lib/python3.7/dist-packages (from aiohttp->datasets) (1.3.1)\n",
      "Requirement already satisfied: filelock in /usr/local/lib/python3.7/dist-packages (from huggingface-hub<1.0.0,>=0.2.0->datasets) (3.8.0)\n",
      "Requirement already satisfied: pyparsing!=3.0.5,>=2.0.2 in /usr/local/lib/python3.7/dist-packages (from packaging->datasets) (3.0.9)\n",
      "Requirement already satisfied: chardet<4,>=3.0.2 in /usr/local/lib/python3.7/dist-packages (from requests>=2.19.0->datasets) (3.0.4)\n",
      "Requirement already satisfied: certifi>=2017.4.17 in /usr/local/lib/python3.7/dist-packages (from requests>=2.19.0->datasets) (2022.9.24)\n",
      "Requirement already satisfied: urllib3!=1.25.0,!=1.25.1,<1.26,>=1.21.1 in /usr/local/lib/python3.7/dist-packages (from requests>=2.19.0->datasets) (1.25.11)\n",
      "Requirement already satisfied: idna<3,>=2.5 in /usr/local/lib/python3.7/dist-packages (from requests>=2.19.0->datasets) (2.10)\n",
      "Requirement already satisfied: zipp>=0.5 in /usr/local/lib/python3.7/dist-packages (from importlib-metadata->datasets) (3.10.0)\n",
      "Requirement already satisfied: python-dateutil>=2.7.3 in /usr/local/lib/python3.7/dist-packages (from pandas->datasets) (2.8.2)\n",
      "Requirement already satisfied: pytz>=2017.3 in /usr/local/lib/python3.7/dist-packages (from pandas->datasets) (2022.6)\n",
      "Requirement already satisfied: six>=1.5 in /usr/local/lib/python3.7/dist-packages (from python-dateutil>=2.7.3->pandas->datasets) (1.15.0)\n",
      "Looking in indexes: https://pypi.org/simple, https://us-python.pkg.dev/colab-wheels/public/simple/\n",
      "Requirement already satisfied: torchtext in /usr/local/lib/python3.7/dist-packages (0.13.1)\n",
      "Requirement already satisfied: tqdm in /usr/local/lib/python3.7/dist-packages (from torchtext) (4.64.1)\n",
      "Requirement already satisfied: numpy in /usr/local/lib/python3.7/dist-packages (from torchtext) (1.21.6)\n",
      "Requirement already satisfied: requests in /usr/local/lib/python3.7/dist-packages (from torchtext) (2.23.0)\n",
      "Requirement already satisfied: torch==1.12.1 in /usr/local/lib/python3.7/dist-packages (from torchtext) (1.12.1+cu113)\n",
      "Requirement already satisfied: typing-extensions in /usr/local/lib/python3.7/dist-packages (from torch==1.12.1->torchtext) (4.1.1)\n",
      "Requirement already satisfied: idna<3,>=2.5 in /usr/local/lib/python3.7/dist-packages (from requests->torchtext) (2.10)\n",
      "Requirement already satisfied: certifi>=2017.4.17 in /usr/local/lib/python3.7/dist-packages (from requests->torchtext) (2022.9.24)\n",
      "Requirement already satisfied: urllib3!=1.25.0,!=1.25.1,<1.26,>=1.21.1 in /usr/local/lib/python3.7/dist-packages (from requests->torchtext) (1.25.11)\n",
      "Requirement already satisfied: chardet<4,>=3.0.2 in /usr/local/lib/python3.7/dist-packages (from requests->torchtext) (3.0.4)\n"
     ]
    }
   ],
   "source": [
    "# Uncomment if running code on Colab\n",
    "!pip install datasets\n",
    "!pip install torchtext"
   ]
  },
  {
   "cell_type": "code",
   "execution_count": 2,
   "id": "34573d86",
   "metadata": {
    "colab": {
     "base_uri": "https://localhost:8080/"
    },
    "id": "34573d86",
    "outputId": "4d4a6b2c-c51f-47ee-d665-ca772e6fd6a2"
   },
   "outputs": [
    {
     "name": "stdout",
     "output_type": "stream",
     "text": [
      "Device:  cuda\n"
     ]
    }
   ],
   "source": [
    "# Import necesssary modules\n",
    "import torch\n",
    "import torch.nn as nn\n",
    "from torch.utils.data import Dataset, DataLoader\n",
    "\n",
    "import torchtext.vocab as vocab\n",
    "\n",
    "import pandas as pd\n",
    "import numpy as np\n",
    "from datasets import load_dataset\n",
    "from tqdm import tqdm\n",
    "from collections import Counter\n",
    "import seaborn as sns\n",
    "\n",
    "import matplotlib.pyplot as plt\n",
    "%matplotlib inline\n",
    "\n",
    "# Set device = CUDA if available\n",
    "device = 'cuda' if torch.cuda.is_available() else 'cpu'\n",
    "print('Device: ', device)"
   ]
  },
  {
   "cell_type": "code",
   "execution_count": 3,
   "id": "236a4729",
   "metadata": {
    "colab": {
     "base_uri": "https://localhost:8080/",
     "height": 87,
     "referenced_widgets": [
      "4f603af6cce245deb1ce010de17c5377",
      "964b371f45f44ca4bfcc1d2d81a3674c",
      "8ace3150b75c43a48ac0695053343aec",
      "fe600afce40d444b94fa2cf07a088ef1",
      "e1ffe374eae547bc9c7ad29dbcfd2f5e",
      "1a5191d10ee044a2b3a83ee7f63d32a7",
      "00a8b43735ab4bc19b71d3484f90ba7f",
      "67b510ea09a64cf58c882d1c36860614",
      "f3dfc1ff5a67496ebacbbb7bee419653",
      "ff5aa1f5870f41fbad0a162fbb23c5ce",
      "af21d8156413488990312242d5bcd4a0"
     ]
    },
    "id": "236a4729",
    "outputId": "b06ee696-97e0-416b-84e8-f60c6744d330"
   },
   "outputs": [
    {
     "name": "stderr",
     "output_type": "stream",
     "text": [
      "WARNING:datasets.builder:Found cached dataset ptb_text_only (/root/.cache/huggingface/datasets/ptb_text_only/penn_treebank/1.1.0/8d1b97746fb9765d140e569ec5ddd35e20af4d37761f5e1bf357ea0b081f2c1f)\n"
     ]
    },
    {
     "data": {
      "application/vnd.jupyter.widget-view+json": {
       "model_id": "4f603af6cce245deb1ce010de17c5377",
       "version_major": 2,
       "version_minor": 0
      },
      "text/plain": [
       "  0%|          | 0/3 [00:00<?, ?it/s]"
      ]
     },
     "metadata": {},
     "output_type": "display_data"
    }
   ],
   "source": [
    "# Download the dataset using HuggingFace load_dataset\n",
    "ptb = load_dataset('ptb_text_only')"
   ]
  },
  {
   "cell_type": "code",
   "execution_count": 4,
   "id": "417c978d",
   "metadata": {
    "colab": {
     "base_uri": "https://localhost:8080/"
    },
    "id": "417c978d",
    "outputId": "6e153b3f-de66-48c4-c7c9-80e803ddb2d5"
   },
   "outputs": [
    {
     "name": "stdout",
     "output_type": "stream",
     "text": [
      "Dataset Split: DatasetDict({\n",
      "    train: Dataset({\n",
      "        features: ['sentence'],\n",
      "        num_rows: 42068\n",
      "    })\n",
      "    test: Dataset({\n",
      "        features: ['sentence'],\n",
      "        num_rows: 3761\n",
      "    })\n",
      "    validation: Dataset({\n",
      "        features: ['sentence'],\n",
      "        num_rows: 3370\n",
      "    })\n",
      "})\n"
     ]
    }
   ],
   "source": [
    "# View Dataset Splits\n",
    "print('Dataset Split:', ptb)\n",
    "\n",
    "# Train Data\n",
    "train_data = ptb['train']['sentence']\n",
    "# Val Data\n",
    "val_data = ptb['validation']['sentence']\n",
    "# Test Data\n",
    "test_data = ptb['test']['sentence']"
   ]
  },
  {
   "cell_type": "code",
   "execution_count": 5,
   "id": "85b2301e",
   "metadata": {
    "colab": {
     "base_uri": "https://localhost:8080/",
     "height": 183
    },
    "id": "85b2301e",
    "outputId": "ab77a209-756f-400c-b959-31d84b1b7395"
   },
   "outputs": [
    {
     "data": {
      "image/png": "[encoded data removed]",
      "text/plain": [
       "<Figure size 432x144 with 1 Axes>"
      ]
     },
     "metadata": {},
     "output_type": "display_data"
    }
   ],
   "source": [
    "# Dataset Split Plot\n",
    "ds_list = ['train', 'val', 'test']\n",
    "sent_count_list = [ptb['train'].num_rows, ptb['validation'].num_rows, ptb['test'].num_rows]\n",
    "\n",
    "def plot_ds_split(ds_list, \n",
    "                  sent_count_list, \n",
    "                  xlabel, \n",
    "                  ylabel, \n",
    "                  title, \n",
    "                  filepath):\n",
    "    dist_df = pd.DataFrame({'sent_count_list': sent_count_list, 'ds_list': ds_list})\n",
    "    plt.style.use('ggplot')\n",
    "    plt.figure(figsize = (6, 2))\n",
    "    sns.barplot(x = 'sent_count_list', y = 'ds_list' , data = dist_df, orient = 'h')\n",
    "    plt.xlabel(xlabel, size = 8)\n",
    "    plt.ylabel(ylabel, size = 8)\n",
    "    plt.xticks(fontsize = 8)\n",
    "    plt.yticks(fontsize = 8)\n",
    "    plt.title(title, size = 10)\n",
    "    # Comment if running on Colab\n",
    "    # plt.savefig(filepath)\n",
    "    \n",
    "plot_ds_split(ds_list, sent_count_list, 'Sentence Count', 'Data set', 'Freq Dist after Dataset split', 'Images/dataset_split.png')"
   ]
  },
  {
   "cell_type": "code",
   "execution_count": 6,
   "id": "6ff649d4",
   "metadata": {
    "id": "6ff649d4"
   },
   "outputs": [],
   "source": [
    "# Tokenize\n",
    "def tokenize(text):\n",
    "    return [i for i in text.split()]\n",
    "\n",
    "# Load Words\n",
    "def load_words(data):\n",
    "    tokenized_sent = list()\n",
    "    for sentence in tqdm(data, desc = 'List of Tokens', colour = 'red'):\n",
    "        tokenized_sent.append(tokenize('<start> ' + sentence))\n",
    "    return sum(tokenized_sent, [])"
   ]
  },
  {
   "cell_type": "code",
   "execution_count": 7,
   "id": "e23ec1ca",
   "metadata": {
    "colab": {
     "base_uri": "https://localhost:8080/"
    },
    "id": "e23ec1ca",
    "outputId": "8b1275a0-f25f-4313-83fc-ab2e67276239"
   },
   "outputs": [
    {
     "name": "stderr",
     "output_type": "stream",
     "text": [
      "List of Tokens: 100%|\u001b[31m██████████\u001b[0m| 42068/42068 [00:00<00:00, 160317.41it/s]\n"
     ]
    },
    {
     "name": "stdout",
     "output_type": "stream",
     "text": [
      "Vocab Length:  10000\n"
     ]
    }
   ],
   "source": [
    "# List of Tokenized Words in the Train Corpus\n",
    "words = load_words(train_data)\n",
    "\n",
    "# Vocab: List of Unique Words\n",
    "vocab = Counter(words)\n",
    "\n",
    "# Print Vocab Length\n",
    "VOCAB_LEN = len(vocab)\n",
    "print('Vocab Length: ', VOCAB_LEN)"
   ]
  },
  {
   "cell_type": "code",
   "execution_count": 8,
   "id": "5f4554a8",
   "metadata": {
    "id": "5f4554a8"
   },
   "outputs": [],
   "source": [
    "# Word-to-Index Dictionary for Vocab\n",
    "word2idx = { term: idx for idx, term in enumerate(vocab) }\n",
    "\n",
    "# Index-to-Word Dictionary for Vocab\n",
    "idx2word = { idx: word for word,idx in word2idx.items() }"
   ]
  },
  {
   "cell_type": "code",
   "execution_count": 9,
   "id": "dc1f918e",
   "metadata": {
    "colab": {
     "base_uri": "https://localhost:8080/"
    },
    "id": "dc1f918e",
    "outputId": "e1b7c2b3-2caa-4155-eb88-e5382e10ed3d"
   },
   "outputs": [
    {
     "name": "stderr",
     "output_type": "stream",
     "text": [
      ".vector_cache/glove.840B.300d.zip: 2.18GB [06:50, 5.31MB/s]                            \n",
      "100%|█████████▉| 2196016/2196017 [03:11<00:00, 11493.47it/s]\n"
     ]
    },
    {
     "name": "stdout",
     "output_type": "stream",
     "text": [
      "Loaded 2196017 words present in GloVe\n"
     ]
    }
   ],
   "source": [
    "# Load GloVe Embeddings\n",
    "import torchtext.vocab as vocab\n",
    "GLOVE_DIM = 300\n",
    "glove = vocab.GloVe(name = '840B', dim = GLOVE_DIM)\n",
    "\n",
    "print('Loaded {} words present in GloVe'.format(len(glove.itos)))\n",
    "\n",
    "# Get Embedding for given word\n",
    "def get_word_embedding(word):\n",
    "    return glove.vectors[glove.stoi[word]]"
   ]
  },
  {
   "cell_type": "code",
   "execution_count": 10,
   "id": "77f093ca",
   "metadata": {
    "id": "77f093ca"
   },
   "outputs": [],
   "source": [
    "start_tensor = torch.zeros(1, GLOVE_DIM, device = device) # Word Embedding Tensor for <start>\n",
    "unk_tensor = torch.rand(1, GLOVE_DIM, device = device) # Word Embedding Tensor for <unk>\n",
    "\n",
    "# Create Embedding Matrix for Vocab\n",
    "embeddings = []\n",
    "for word in word2idx:\n",
    "    if word in glove.stoi: # If word present in GloVe\n",
    "        embeddings.append(get_word_embedding(word)) \n",
    "    else:\n",
    "        if(word == '<start>'): # If word is <start>\n",
    "            embeddings.append(start_tensor) \n",
    "        else: # If word is <unk> or not present in GloVe\n",
    "            embeddings.append(unk_tensor)\n",
    "            \n",
    "temp_list = []\n",
    "for emb in embeddings:\n",
    "    temp_list.append(emb.detach().cpu().numpy().squeeze().tolist())\n",
    "# Tensor of Word Embeddings for each word in vocab\n",
    "embeddings_tensor = torch.tensor(temp_list, device = device)"
   ]
  },
  {
   "cell_type": "code",
   "execution_count": 11,
   "id": "03117fb8",
   "metadata": {
    "id": "03117fb8"
   },
   "outputs": [],
   "source": [
    "# LangModel Class for DataLoader\n",
    "class LangModelDataset(Dataset):\n",
    "    \n",
    "    # Constructor\n",
    "    def __init__(self, \n",
    "                 data: list):\n",
    "        self.data = data\n",
    "        # Default Sequence Length\n",
    "        self.sequence_length = 30\n",
    "        self.words = self.load_words()\n",
    "         # Create List of tokens in the Corpus\n",
    "        self.token_list = list()\n",
    "        for word in self.words:\n",
    "            if word in word2idx: \n",
    "                self.token_list.append(word2idx[word])\n",
    "            else:\n",
    "                self.token_list.append(1)\n",
    "    \n",
    "    # Length of Number of Sequences for a Dataset split\n",
    "    def __len__(self):\n",
    "        return len(self.token_list) - self.sequence_length\n",
    "    \n",
    "    # List of Tokenized Words in the Corpus\n",
    "    def load_words(self):\n",
    "        tokenized_sent = list()\n",
    "        for sentence in self.data:\n",
    "            tokenized_sent.append(self.tokenize('<start> ' + sentence))\n",
    "        return sum(tokenized_sent, [])\n",
    "    \n",
    "    def __getitem__(self, \n",
    "                    idx: int):\n",
    "        # Input Sequence Tensor\n",
    "        x = torch.tensor(self.token_list[idx : idx + self.sequence_length], device = device)\n",
    "        # Target Sequence Tensor\n",
    "        y = torch.tensor(self.token_list[idx + 1 : idx + self.sequence_length + 1], device = device)\n",
    "        return x, y\n",
    "        \n",
    "    # Tokenize a sentence using split()  \n",
    "    def tokenize(self, \n",
    "                 text: str):\n",
    "        return [i for i in text.split()]"
   ]
  },
  {
   "cell_type": "code",
   "execution_count": 12,
   "id": "303e4604",
   "metadata": {
    "id": "303e4604"
   },
   "outputs": [],
   "source": [
    "# Language Model Object for DataLoader\n",
    "# Train Dataset Object\n",
    "train_ds = LangModelDataset(train_data)\n",
    "\n",
    "# Val Dataset Object\n",
    "val_ds = LangModelDataset(val_data)\n",
    "\n",
    "# Test Dataset Object\n",
    "test_ds = LangModelDataset(test_data)"
   ]
  },
  {
   "cell_type": "code",
   "execution_count": 13,
   "id": "88f95442",
   "metadata": {
    "id": "88f95442"
   },
   "outputs": [],
   "source": [
    "# Model Hyper-Parameters\n",
    "BATCH_SIZE = 64\n",
    "EMBEDDING_DIM = GLOVE_DIM\n",
    "HIDDEN_DIM = 128\n",
    "OUTPUT_DIM = VOCAB_LEN\n",
    "NUM_LAYERS = 2\n",
    "BIDIRECTION = False\n",
    "DROPOUT = 0.2\n",
    "LEARNING_RATE = 0.01"
   ]
  },
  {
   "cell_type": "code",
   "execution_count": 14,
   "id": "9be8a5ad",
   "metadata": {
    "id": "9be8a5ad"
   },
   "outputs": [],
   "source": [
    "# Pytorch Data Loaders\n",
    "# Train Data Loader\n",
    "train_loader = DataLoader(train_ds, \n",
    "                          batch_size = BATCH_SIZE, \n",
    "                          shuffle = True)\n",
    "# Val Data Loader\n",
    "val_loader = DataLoader(val_ds, \n",
    "                        batch_size = BATCH_SIZE, \n",
    "                        shuffle = True)\n",
    "# Test Data Loader\n",
    "test_loader = DataLoader(test_ds, \n",
    "                        batch_size = 1, \n",
    "                        shuffle = False)"
   ]
  },
  {
   "cell_type": "code",
   "execution_count": 15,
   "id": "6e92e4dc",
   "metadata": {
    "id": "6e92e4dc"
   },
   "outputs": [],
   "source": [
    "# RNN / LSTM / GRU Model\n",
    "class LSTM(nn.Module):\n",
    "    \n",
    "    # Constructor\n",
    "    def __init__(self, \n",
    "                 embedding_dim, \n",
    "                 hidden_dim, \n",
    "                 output_dim, \n",
    "                 n_layers, \n",
    "                 bidirectional, \n",
    "                 dropout):\n",
    "        super().__init__()\n",
    "        # Initialize Embedding Layer with Pre-Trained GloVe Embeddings\n",
    "        self.embedding = nn.Embedding.from_pretrained(embeddings_tensor)\n",
    "        # Initialize LSTM layer to process the vector sequences \n",
    "        self.lstm = nn.LSTM(embedding_dim, \n",
    "                            hidden_dim,\n",
    "                            num_layers = n_layers,\n",
    "                            bidirectional = bidirectional,\n",
    "                            dropout = dropout,\n",
    "                            batch_first = True)\n",
    "        num_directions = 2 if bidirectional else 1\n",
    "        # Initialize Dense layers to predict\n",
    "        self.fc1 = nn.Linear(hidden_dim * num_directions, hidden_dim)\n",
    "        self.fc2 = nn.Linear(hidden_dim, output_dim)\n",
    "        # Initialize dropout to improve with regularization\n",
    "        self.dropout = nn.Dropout(dropout)\n",
    "        \n",
    "    # Forward Pass of Model    \n",
    "    def forward(self, \n",
    "                x):\n",
    "        # Embedding Layer\n",
    "        embedded = self.embedding(x)\n",
    "        # Dropout Layer before Seq Layer\n",
    "        embedded = self.dropout(embedded)\n",
    "         # LSTM Layer\n",
    "        output, (hidden, cell) = self.lstm(embedded)\n",
    "        # 1st Fully Connected Layer\n",
    "        output = self.fc1(output)\n",
    "        # Dropout Layer before Output\n",
    "        output = self.dropout(output)\n",
    "        # 2nd Fully Connected Layer\n",
    "        output = self.fc2(output)\n",
    "        return output"
   ]
  },
  {
   "cell_type": "code",
   "execution_count": 16,
   "id": "17ad18ba",
   "metadata": {
    "colab": {
     "base_uri": "https://localhost:8080/"
    },
    "id": "17ad18ba",
    "outputId": "0769fde8-1c26-4627-8948-30cb989bd2d9"
   },
   "outputs": [
    {
     "name": "stdout",
     "output_type": "stream",
     "text": [
      "LSTM Model:  LSTM(\n",
      "  (embedding): Embedding(10000, 300)\n",
      "  (lstm): LSTM(300, 128, num_layers=2, batch_first=True, dropout=0.2)\n",
      "  (fc1): Linear(in_features=128, out_features=128, bias=True)\n",
      "  (fc2): Linear(in_features=128, out_features=10000, bias=True)\n",
      "  (dropout): Dropout(p=0.2, inplace=False)\n",
      ")\n"
     ]
    }
   ],
   "source": [
    "# Set Seed Value to make results reproducible\n",
    "torch.manual_seed(32)\n",
    "\n",
    "model = LSTM(EMBEDDING_DIM, \n",
    "            HIDDEN_DIM, \n",
    "            OUTPUT_DIM, \n",
    "            NUM_LAYERS, \n",
    "            BIDIRECTION, \n",
    "            DROPOUT).to(device)\n",
    "\n",
    "print('LSTM Model: ', model)"
   ]
  },
  {
   "cell_type": "code",
   "execution_count": 17,
   "id": "1f887dd4",
   "metadata": {
    "id": "1f887dd4"
   },
   "outputs": [],
   "source": [
    "# Model Train Function\n",
    "def train(loader, \n",
    "          model, \n",
    "          optimizer, \n",
    "          loss_fn):\n",
    "    # Set model to train mode\n",
    "    model.train()\n",
    "    losses = []\n",
    "    pbar = tqdm(loader, desc = 'Training Loop', colour = 'green')\n",
    "    for x, y in pbar:\n",
    "        optimizer.zero_grad()\n",
    "        \n",
    "        # Calculate y_pred\n",
    "        y_pred = model(x) # [Batch_Length, Sequence Length, Output Dim]\n",
    "        \n",
    "        # Convert y_pred to 2D Tensor\n",
    "        y_pred = y_pred.view(-1, y_pred.shape[-1]) # [Batch_Length * Sequence Length, Output Dim]\n",
    "        # Convert y to 1D Tensor\n",
    "        y = torch.flatten(y) # [Batch_Length * Sequence Length]\n",
    "        \n",
    "        # Loss\n",
    "        loss = loss_fn(y_pred, y)\n",
    "        pbar.set_postfix({'Loss': loss.item()})\n",
    "        losses.append(loss.item())\n",
    "        \n",
    "        # Calculate gradients for w/b\n",
    "        loss.backward()  \n",
    "        # Update weights according to optimizer rules\n",
    "        optimizer.step()\n",
    "    return round((sum(losses) / len(losses)), 4) # Return Average Loss\n",
    "\n",
    "# Model Evaluate Function\n",
    "def evaluate(loader, \n",
    "             model, \n",
    "             loss_fn):\n",
    "    # Set model to eval mode\n",
    "    model.eval()\n",
    "    losses = []\n",
    "    pbar = tqdm(loader, desc = 'Evaluation Loop', colour = 'cyan')\n",
    "    for x, y in pbar:\n",
    "        # Calculate y_pred\n",
    "        y_pred = model(x) # [Batch_Length, Sequence Length, Output Dim]\n",
    "              \n",
    "        # Convert y_pred to 2D Tensor\n",
    "        y_pred = y_pred.view(-1, y_pred.shape[-1]) # [Batch_Length * Sequence Length, Output Dim]\n",
    "        # Convert y to 1D Tensor\n",
    "        y = torch.flatten(y) # [Batch_Length * Sequence Length]\n",
    "        \n",
    "        # Loss\n",
    "        loss = loss_fn(y_pred, y)\n",
    "        pbar.set_postfix({'Loss': loss.item()})\n",
    "        losses.append(loss.item())\n",
    "    \n",
    "    return round((sum(losses) / len(losses)), 4) # Return Average Loss"
   ]
  },
  {
   "cell_type": "code",
   "execution_count": 18,
   "id": "4f300ceb",
   "metadata": {
    "colab": {
     "base_uri": "https://localhost:8080/"
    },
    "id": "4f300ceb",
    "outputId": "550d1e12-85dc-46c6-de44-0eba144326de"
   },
   "outputs": [
    {
     "name": "stderr",
     "output_type": "stream",
     "text": [
      "Training Loop: 100%|\u001b[32m██████████\u001b[0m| 14525/14525 [03:45<00:00, 64.40it/s, Loss=4.49]\n",
      "Evaluation Loop: 100%|\u001b[36m██████████\u001b[0m| 1153/1153 [00:12<00:00, 93.59it/s, Loss=4.27]\n"
     ]
    },
    {
     "name": "stdout",
     "output_type": "stream",
     "text": [
      "Epoch 1 --> Train Loss: 4.732 | Train PPL: 113.52236938476562 | Val Loss: 4.8068 | Val PPL: 122.33949279785156\n"
     ]
    },
    {
     "name": "stderr",
     "output_type": "stream",
     "text": [
      "Training Loop: 100%|\u001b[32m██████████\u001b[0m| 14525/14525 [03:43<00:00, 64.98it/s, Loss=4.82]\n",
      "Evaluation Loop: 100%|\u001b[36m██████████\u001b[0m| 1153/1153 [00:12<00:00, 92.81it/s, Loss=3.84]\n"
     ]
    },
    {
     "name": "stdout",
     "output_type": "stream",
     "text": [
      "Epoch 2 --> Train Loss: 4.5044 | Train PPL: 90.4140625 | Val Loss: 4.7734 | Val PPL: 118.3208236694336\n"
     ]
    },
    {
     "name": "stderr",
     "output_type": "stream",
     "text": [
      "Training Loop: 100%|\u001b[32m██████████\u001b[0m| 14525/14525 [03:43<00:00, 64.99it/s, Loss=4.6]\n",
      "Evaluation Loop: 100%|\u001b[36m██████████\u001b[0m| 1153/1153 [00:12<00:00, 92.53it/s, Loss=4.33]\n"
     ]
    },
    {
     "name": "stdout",
     "output_type": "stream",
     "text": [
      "Epoch 3 --> Train Loss: 4.4679 | Train PPL: 87.17345428466797 | Val Loss: 4.7711 | Val PPL: 118.04903411865234\n"
     ]
    },
    {
     "name": "stderr",
     "output_type": "stream",
     "text": [
      "Training Loop: 100%|\u001b[32m██████████\u001b[0m| 14525/14525 [03:43<00:00, 64.89it/s, Loss=4.38]\n",
      "Evaluation Loop: 100%|\u001b[36m██████████\u001b[0m| 1153/1153 [00:12<00:00, 89.24it/s, Loss=5.52]\n"
     ]
    },
    {
     "name": "stdout",
     "output_type": "stream",
     "text": [
      "Epoch 4 --> Train Loss: 4.4504 | Train PPL: 85.66118621826172 | Val Loss: 4.7874 | Val PPL: 119.98896789550781\n"
     ]
    },
    {
     "name": "stderr",
     "output_type": "stream",
     "text": [
      "Training Loop: 100%|\u001b[32m██████████\u001b[0m| 14525/14525 [03:45<00:00, 64.49it/s, Loss=4.58]\n",
      "Evaluation Loop: 100%|\u001b[36m██████████\u001b[0m| 1153/1153 [00:12<00:00, 92.99it/s, Loss=4.91]\n"
     ]
    },
    {
     "name": "stdout",
     "output_type": "stream",
     "text": [
      "Epoch 5 --> Train Loss: 4.4395 | Train PPL: 84.73255157470703 | Val Loss: 4.7593 | Val PPL: 116.66426086425781\n"
     ]
    },
    {
     "name": "stderr",
     "output_type": "stream",
     "text": [
      "Training Loop: 100%|\u001b[32m██████████\u001b[0m| 14525/14525 [03:44<00:00, 64.82it/s, Loss=4.3]\n",
      "Evaluation Loop: 100%|\u001b[36m██████████\u001b[0m| 1153/1153 [00:12<00:00, 91.83it/s, Loss=4.26]\n"
     ]
    },
    {
     "name": "stdout",
     "output_type": "stream",
     "text": [
      "Epoch 6 --> Train Loss: 4.4316 | Train PPL: 84.0658187866211 | Val Loss: 4.7589 | Val PPL: 116.61760711669922\n"
     ]
    },
    {
     "name": "stderr",
     "output_type": "stream",
     "text": [
      "Training Loop: 100%|\u001b[32m██████████\u001b[0m| 14525/14525 [03:43<00:00, 64.86it/s, Loss=4.74]\n",
      "Evaluation Loop: 100%|\u001b[36m██████████\u001b[0m| 1153/1153 [00:12<00:00, 92.86it/s, Loss=5.58]\n"
     ]
    },
    {
     "name": "stdout",
     "output_type": "stream",
     "text": [
      "Epoch 7 --> Train Loss: 4.4268 | Train PPL: 83.66324615478516 | Val Loss: 4.7535 | Val PPL: 115.98954010009766\n"
     ]
    },
    {
     "name": "stderr",
     "output_type": "stream",
     "text": [
      "Training Loop: 100%|\u001b[32m██████████\u001b[0m| 14525/14525 [03:43<00:00, 64.86it/s, Loss=4.42]\n",
      "Evaluation Loop: 100%|\u001b[36m██████████\u001b[0m| 1153/1153 [00:12<00:00, 93.23it/s, Loss=4.92]\n"
     ]
    },
    {
     "name": "stdout",
     "output_type": "stream",
     "text": [
      "Epoch 8 --> Train Loss: 4.4222 | Train PPL: 83.27931213378906 | Val Loss: 4.7642 | Val PPL: 117.23731994628906\n"
     ]
    },
    {
     "name": "stderr",
     "output_type": "stream",
     "text": [
      "Training Loop: 100%|\u001b[32m██████████\u001b[0m| 14525/14525 [03:44<00:00, 64.76it/s, Loss=4.18]\n",
      "Evaluation Loop: 100%|\u001b[36m██████████\u001b[0m| 1153/1153 [00:12<00:00, 92.92it/s, Loss=4.79]\n"
     ]
    },
    {
     "name": "stdout",
     "output_type": "stream",
     "text": [
      "Epoch 9 --> Train Loss: 4.4184 | Train PPL: 82.96342468261719 | Val Loss: 4.7652 | Val PPL: 117.35459899902344\n"
     ]
    },
    {
     "name": "stderr",
     "output_type": "stream",
     "text": [
      "Training Loop: 100%|\u001b[32m██████████\u001b[0m| 14525/14525 [03:43<00:00, 64.97it/s, Loss=4.01]\n",
      "Evaluation Loop: 100%|\u001b[36m██████████\u001b[0m| 1153/1153 [00:12<00:00, 92.67it/s, Loss=4.56]\n"
     ]
    },
    {
     "name": "stdout",
     "output_type": "stream",
     "text": [
      "Epoch 10 --> Train Loss: 4.4159 | Train PPL: 82.75630950927734 | Val Loss: 4.758 | Val PPL: 116.51265716552734\n"
     ]
    }
   ],
   "source": [
    "# Model Training on Train dataset and Evaluation on Validation dataset\n",
    "\n",
    "# Optimizer\n",
    "optimizer = torch.optim.AdamW(model.parameters(),\n",
    "                              lr = LEARNING_RATE)\n",
    "\n",
    "# Loss Function -> Cross-Entropy Loss\n",
    "loss_fn = nn.CrossEntropyLoss().to(device)\n",
    "\n",
    "train_loss_list = []\n",
    "train_ppl_list = []\n",
    "val_loss_list = []\n",
    "val_ppl_list = []\n",
    "\n",
    "# Number of Epochs to run\n",
    "n_epochs = 10\n",
    "\n",
    "# Path to Save Best Model\n",
    "PATH = f'best-model.pt'\n",
    "\n",
    "for epoch in range(n_epochs):\n",
    "    # Avg Training Loss\n",
    "    train_loss = train(train_loader, \n",
    "                       model, \n",
    "                       optimizer, \n",
    "                       loss_fn)\n",
    "    train_loss_list.append(train_loss)\n",
    "    # Train Perplexity\n",
    "    train_ppl = torch.exp(torch.tensor(train_loss, device = device))\n",
    "    train_ppl_list.append(train_ppl.detach().cpu().numpy())\n",
    "    \n",
    "    # Avg Val Loss\n",
    "    val_loss = evaluate(val_loader, \n",
    "                        model, \n",
    "                        loss_fn)\n",
    "    val_loss_list.append(val_loss)\n",
    "    # Val Perplexity\n",
    "    val_ppl = torch.exp(torch.tensor(val_loss, device = device))\n",
    "    val_ppl_list.append(val_ppl.detach().cpu().numpy())\n",
    "    \n",
    "    print(\"Epoch {0} --> Train Loss: {1} | Train PPL: {2} | Val Loss: {3} | Val PPL: {4}\".format(epoch + 1, train_loss, train_ppl, val_loss, val_ppl))\n",
    "    \n",
    "    # Save model\n",
    "    torch.save(model.state_dict(), PATH)"
   ]
  },
  {
   "cell_type": "code",
   "execution_count": 21,
   "id": "09fb3245",
   "metadata": {
    "colab": {
     "base_uri": "https://localhost:8080/",
     "height": 299
    },
    "id": "09fb3245",
    "outputId": "23e53a83-d588-44ab-b711-007498f364cc"
   },
   "outputs": [
    {
     "data": {
      "image/png": "[encoded data removed]",
      "text/plain": [
       "<Figure size 432x288 with 1 Axes>"
      ]
     },
     "metadata": {},
     "output_type": "display_data"
    }
   ],
   "source": [
    "# Line Plot Comparison\n",
    "epochs = np.arange(n_epochs) + 1\n",
    "\n",
    "def plot_line(line_A_vals, \n",
    "              line_B_vals, \n",
    "              line_A_label, \n",
    "              line_B_label, \n",
    "              xlabel, \n",
    "              ylabel, \n",
    "              title, \n",
    "              filepath):\n",
    "    plt.style.use('ggplot')\n",
    "    plt.plot(epochs, line_A_vals, label = line_A_label, color = \"red\", linewidth = '3', )\n",
    "    plt.plot(epochs, line_B_vals, label = line_B_label, color = \"green\", linewidth = '3')\n",
    "    plt.xlabel(xlabel)\n",
    "    plt.xticks(epochs)\n",
    "    plt.ylabel(ylabel)\n",
    "    plt.title(title, color = 'black')\n",
    "    plt.legend(shadow = True)\n",
    "    # Comment if running on Colab\n",
    "    # plt.savefig(filepath)\n",
    "    \n",
    "# Training vs Validation Loss Plot\n",
    "plot_line(train_loss_list, \n",
    "          val_loss_list, \n",
    "          'Training Loss', \n",
    "          'Validation Loss', \n",
    "          'Epoch', \n",
    "          'Loss', \n",
    "          'Training Loss vs Validation Loss', \n",
    "          'Images/train_vs_val_loss_plot.png')"
   ]
  },
  {
   "cell_type": "code",
   "execution_count": 22,
   "id": "5d32dcf1",
   "metadata": {
    "colab": {
     "base_uri": "https://localhost:8080/",
     "height": 299
    },
    "id": "5d32dcf1",
    "outputId": "1e01b074-bda6-485b-82ab-740d4a55971a"
   },
   "outputs": [
    {
     "data": {
      "image/png": "[encoded data removed]",
      "text/plain": [
       "<Figure size 432x288 with 1 Axes>"
      ]
     },
     "metadata": {},
     "output_type": "display_data"
    }
   ],
   "source": [
    "# Training vs Validation Perplexity Plot\n",
    "plot_line(train_ppl_list, \n",
    "          val_ppl_list, \n",
    "          'Training Perplexity', \n",
    "          'Validation Perplexity', \n",
    "          'Epoch', \n",
    "          'Perplexity', \n",
    "          'Training Perplexity vs Validation Perplexity', \n",
    "          'Images/train_vs_val_ppl_plot.png')"
   ]
  },
  {
   "cell_type": "code",
   "execution_count": 23,
   "id": "cb1fe57c",
   "metadata": {
    "colab": {
     "base_uri": "https://localhost:8080/"
    },
    "id": "cb1fe57c",
    "outputId": "0ad22409-95b8-490e-afa1-6780d77d79ef"
   },
   "outputs": [
    {
     "data": {
      "text/plain": [
       "LSTM(\n",
       "  (embedding): Embedding(10000, 300)\n",
       "  (lstm): LSTM(300, 128, num_layers=2, batch_first=True, dropout=0.2)\n",
       "  (fc1): Linear(in_features=128, out_features=128, bias=True)\n",
       "  (fc2): Linear(in_features=128, out_features=10000, bias=True)\n",
       "  (dropout): Dropout(p=0.2, inplace=False)\n",
       ")"
      ]
     },
     "execution_count": 23,
     "metadata": {},
     "output_type": "execute_result"
    }
   ],
   "source": [
    "# Load the saved model\n",
    "saved_model = LSTM(EMBEDDING_DIM, \n",
    "                   HIDDEN_DIM, \n",
    "                   OUTPUT_DIM, \n",
    "                   NUM_LAYERS, \n",
    "                   BIDIRECTION, \n",
    "                   DROPOUT).to(device)\n",
    "\n",
    "saved_model.load_state_dict(torch.load(PATH))\n",
    "saved_model.eval()"
   ]
  },
  {
   "cell_type": "code",
   "execution_count": 24,
   "id": "befc2dc8",
   "metadata": {
    "colab": {
     "base_uri": "https://localhost:8080/"
    },
    "id": "befc2dc8",
    "outputId": "4861e148-d7a6-456a-dc74-742920a0bca6"
   },
   "outputs": [
    {
     "name": "stderr",
     "output_type": "stream",
     "text": [
      "Test Loop: 100%|\u001b[33m██████████\u001b[0m| 82400/82400 [06:17<00:00, 218.42it/s, Loss=4.92]\n"
     ]
    },
    {
     "name": "stdout",
     "output_type": "stream",
     "text": [
      "Test Loss: 4.6888 | Test PPL: 108.72261810302734\n"
     ]
    }
   ],
   "source": [
    "# Model Test Function\n",
    "def test(loader, \n",
    "         model, \n",
    "         loss_fn):\n",
    "    # Set model to eval mode\n",
    "    model.eval()\n",
    "    losses = []\n",
    "    pbar = tqdm(loader, desc = 'Test Loop', colour = 'yellow')\n",
    "    for x, y in pbar:\n",
    "        with torch.no_grad():\n",
    "            # Calculate y_pred\n",
    "            y_pred = model.forward(x) # [Batch_Length, Sequence Length, Output Dim]\n",
    "\n",
    "            # Convert y_pred to 2D Tensor\n",
    "            y_pred = y_pred.view(-1, y_pred.shape[-1]) # [Batch_Length * Sequence Length, Output Dim]\n",
    "            # Convert y to 1D Tensor\n",
    "            y = torch.flatten(y) # [Batch_Length * Sequence Length]\n",
    "            \n",
    "            # Loss\n",
    "            loss = loss_fn(y_pred, y)\n",
    "            pbar.set_postfix({'Loss': loss.item()})\n",
    "            losses.append(loss.item())\n",
    "    \n",
    "    return round((sum(losses) / len(losses)), 4) # Return Average Loss\n",
    "\n",
    "# Avg Test Loss\n",
    "test_loss = test(test_loader, \n",
    "                 saved_model, \n",
    "                 loss_fn)\n",
    "# Test Perplexity\n",
    "test_ppl = torch.exp(torch.tensor(test_loss, device = device))\n",
    "\n",
    "print(\"Test Loss: {0} | Test PPL: {1}\".format(test_loss, test_ppl))"
   ]
  }
 ],
 "metadata": {
  "accelerator": "GPU",
  "colab": {
   "collapsed_sections": [],
   "provenance": []
  },
  "gpuClass": "standard",
  "kernelspec": {
   "display_name": "Python 3 (ipykernel)",
   "language": "python",
   "name": "python3"
  },
  "language_info": {
   "codemirror_mode": {
    "name": "ipython",
    "version": 3
   },
   "file_extension": ".py",
   "mimetype": "text/x-python",
   "name": "python",
   "nbconvert_exporter": "python",
   "pygments_lexer": "ipython3",
   "version": "3.10.8"
  },
  "widgets": {
   "application/vnd.jupyter.widget-state+json": {
    "00a8b43735ab4bc19b71d3484f90ba7f": {
     "model_module": "@jupyter-widgets/controls",
     "model_module_version": "1.5.0",
     "model_name": "DescriptionStyleModel",
     "state": {
      "_model_module": "@jupyter-widgets/controls",
      "_model_module_version": "1.5.0",
      "_model_name": "DescriptionStyleModel",
      "_view_count": null,
      "_view_module": "@jupyter-widgets/base",
      "_view_module_version": "1.2.0",
      "_view_name": "StyleView",
      "description_width": ""
     }
    },
    "1a5191d10ee044a2b3a83ee7f63d32a7": {
     "model_module": "@jupyter-widgets/base",
     "model_module_version": "1.2.0",
     "model_name": "LayoutModel",
     "state": {
      "_model_module": "@jupyter-widgets/base",
      "_model_module_version": "1.2.0",
      "_model_name": "LayoutModel",
      "_view_count": null,
      "_view_module": "@jupyter-widgets/base",
      "_view_module_version": "1.2.0",
      "_view_name": "LayoutView",
      "align_content": null,
      "align_items": null,
      "align_self": null,
      "border": null,
      "bottom": null,
      "display": null,
      "flex": null,
      "flex_flow": null,
      "grid_area": null,
      "grid_auto_columns": null,
      "grid_auto_flow": null,
      "grid_auto_rows": null,
      "grid_column": null,
      "grid_gap": null,
      "grid_row": null,
      "grid_template_areas": null,
      "grid_template_columns": null,
      "grid_template_rows": null,
      "height": null,
      "justify_content": null,
      "justify_items": null,
      "left": null,
      "margin": null,
      "max_height": null,
      "max_width": null,
      "min_height": null,
      "min_width": null,
      "object_fit": null,
      "object_position": null,
      "order": null,
      "overflow": null,
      "overflow_x": null,
      "overflow_y": null,
      "padding": null,
      "right": null,
      "top": null,
      "visibility": null,
      "width": null
     }
    },
    "4f603af6cce245deb1ce010de17c5377": {
     "model_module": "@jupyter-widgets/controls",
     "model_module_version": "1.5.0",
     "model_name": "HBoxModel",
     "state": {
      "_dom_classes": [],
      "_model_module": "@jupyter-widgets/controls",
      "_model_module_version": "1.5.0",
      "_model_name": "HBoxModel",
      "_view_count": null,
      "_view_module": "@jupyter-widgets/controls",
      "_view_module_version": "1.5.0",
      "_view_name": "HBoxView",
      "box_style": "",
      "children": [
       "IPY_MODEL_964b371f45f44ca4bfcc1d2d81a3674c",
       "IPY_MODEL_8ace3150b75c43a48ac0695053343aec",
       "IPY_MODEL_fe600afce40d444b94fa2cf07a088ef1"
      ],
      "layout": "IPY_MODEL_e1ffe374eae547bc9c7ad29dbcfd2f5e"
     }
    },
    "67b510ea09a64cf58c882d1c36860614": {
     "model_module": "@jupyter-widgets/base",
     "model_module_version": "1.2.0",
     "model_name": "LayoutModel",
     "state": {
      "_model_module": "@jupyter-widgets/base",
      "_model_module_version": "1.2.0",
      "_model_name": "LayoutModel",
      "_view_count": null,
      "_view_module": "@jupyter-widgets/base",
      "_view_module_version": "1.2.0",
      "_view_name": "LayoutView",
      "align_content": null,
      "align_items": null,
      "align_self": null,
      "border": null,
      "bottom": null,
      "display": null,
      "flex": null,
      "flex_flow": null,
      "grid_area": null,
      "grid_auto_columns": null,
      "grid_auto_flow": null,
      "grid_auto_rows": null,
      "grid_column": null,
      "grid_gap": null,
      "grid_row": null,
      "grid_template_areas": null,
      "grid_template_columns": null,
      "grid_template_rows": null,
      "height": null,
      "justify_content": null,
      "justify_items": null,
      "left": null,
      "margin": null,
      "max_height": null,
      "max_width": null,
      "min_height": null,
      "min_width": null,
      "object_fit": null,
      "object_position": null,
      "order": null,
      "overflow": null,
      "overflow_x": null,
      "overflow_y": null,
      "padding": null,
      "right": null,
      "top": null,
      "visibility": null,
      "width": null
     }
    },
    "8ace3150b75c43a48ac0695053343aec": {
     "model_module": "@jupyter-widgets/controls",
     "model_module_version": "1.5.0",
     "model_name": "FloatProgressModel",
     "state": {
      "_dom_classes": [],
      "_model_module": "@jupyter-widgets/controls",
      "_model_module_version": "1.5.0",
      "_model_name": "FloatProgressModel",
      "_view_count": null,
      "_view_module": "@jupyter-widgets/controls",
      "_view_module_version": "1.5.0",
      "_view_name": "ProgressView",
      "bar_style": "success",
      "description": "",
      "description_tooltip": null,
      "layout": "IPY_MODEL_67b510ea09a64cf58c882d1c36860614",
      "max": 3,
      "min": 0,
      "orientation": "horizontal",
      "style": "IPY_MODEL_f3dfc1ff5a67496ebacbbb7bee419653",
      "value": 3
     }
    },
    "964b371f45f44ca4bfcc1d2d81a3674c": {
     "model_module": "@jupyter-widgets/controls",
     "model_module_version": "1.5.0",
     "model_name": "HTMLModel",
     "state": {
      "_dom_classes": [],
      "_model_module": "@jupyter-widgets/controls",
      "_model_module_version": "1.5.0",
      "_model_name": "HTMLModel",
      "_view_count": null,
      "_view_module": "@jupyter-widgets/controls",
      "_view_module_version": "1.5.0",
      "_view_name": "HTMLView",
      "description": "",
      "description_tooltip": null,
      "layout": "IPY_MODEL_1a5191d10ee044a2b3a83ee7f63d32a7",
      "placeholder": "​",
      "style": "IPY_MODEL_00a8b43735ab4bc19b71d3484f90ba7f",
      "value": "100%"
     }
    },
    "af21d8156413488990312242d5bcd4a0": {
     "model_module": "@jupyter-widgets/controls",
     "model_module_version": "1.5.0",
     "model_name": "DescriptionStyleModel",
     "state": {
      "_model_module": "@jupyter-widgets/controls",
      "_model_module_version": "1.5.0",
      "_model_name": "DescriptionStyleModel",
      "_view_count": null,
      "_view_module": "@jupyter-widgets/base",
      "_view_module_version": "1.2.0",
      "_view_name": "StyleView",
      "description_width": ""
     }
    },
    "e1ffe374eae547bc9c7ad29dbcfd2f5e": {
     "model_module": "@jupyter-widgets/base",
     "model_module_version": "1.2.0",
     "model_name": "LayoutModel",
     "state": {
      "_model_module": "@jupyter-widgets/base",
      "_model_module_version": "1.2.0",
      "_model_name": "LayoutModel",
      "_view_count": null,
      "_view_module": "@jupyter-widgets/base",
      "_view_module_version": "1.2.0",
      "_view_name": "LayoutView",
      "align_content": null,
      "align_items": null,
      "align_self": null,
      "border": null,
      "bottom": null,
      "display": null,
      "flex": null,
      "flex_flow": null,
      "grid_area": null,
      "grid_auto_columns": null,
      "grid_auto_flow": null,
      "grid_auto_rows": null,
      "grid_column": null,
      "grid_gap": null,
      "grid_row": null,
      "grid_template_areas": null,
      "grid_template_columns": null,
      "grid_template_rows": null,
      "height": null,
      "justify_content": null,
      "justify_items": null,
      "left": null,
      "margin": null,
      "max_height": null,
      "max_width": null,
      "min_height": null,
      "min_width": null,
      "object_fit": null,
      "object_position": null,
      "order": null,
      "overflow": null,
      "overflow_x": null,
      "overflow_y": null,
      "padding": null,
      "right": null,
      "top": null,
      "visibility": null,
      "width": null
     }
    },
    "f3dfc1ff5a67496ebacbbb7bee419653": {
     "model_module": "@jupyter-widgets/controls",
     "model_module_version": "1.5.0",
     "model_name": "ProgressStyleModel",
     "state": {
      "_model_module": "@jupyter-widgets/controls",
      "_model_module_version": "1.5.0",
      "_model_name": "ProgressStyleModel",
      "_view_count": null,
      "_view_module": "@jupyter-widgets/base",
      "_view_module_version": "1.2.0",
      "_view_name": "StyleView",
      "bar_color": null,
      "description_width": ""
     }
    },
    "fe600afce40d444b94fa2cf07a088ef1": {
     "model_module": "@jupyter-widgets/controls",
     "model_module_version": "1.5.0",
     "model_name": "HTMLModel",
     "state": {
      "_dom_classes": [],
      "_model_module": "@jupyter-widgets/controls",
      "_model_module_version": "1.5.0",
      "_model_name": "HTMLModel",
      "_view_count": null,
      "_view_module": "@jupyter-widgets/controls",
      "_view_module_version": "1.5.0",
      "_view_name": "HTMLView",
      "description": "",
      "description_tooltip": null,
      "layout": "IPY_MODEL_ff5aa1f5870f41fbad0a162fbb23c5ce",
      "placeholder": "​",
      "style": "IPY_MODEL_af21d8156413488990312242d5bcd4a0",
      "value": " 3/3 [00:00&lt;00:00, 57.42it/s]"
     }
    },
    "ff5aa1f5870f41fbad0a162fbb23c5ce": {
     "model_module": "@jupyter-widgets/base",
     "model_module_version": "1.2.0",
     "model_name": "LayoutModel",
     "state": {
      "_model_module": "@jupyter-widgets/base",
      "_model_module_version": "1.2.0",
      "_model_name": "LayoutModel",
      "_view_count": null,
      "_view_module": "@jupyter-widgets/base",
      "_view_module_version": "1.2.0",
      "_view_name": "LayoutView",
      "align_content": null,
      "align_items": null,
      "align_self": null,
      "border": null,
      "bottom": null,
      "display": null,
      "flex": null,
      "flex_flow": null,
      "grid_area": null,
      "grid_auto_columns": null,
      "grid_auto_flow": null,
      "grid_auto_rows": null,
      "grid_column": null,
      "grid_gap": null,
      "grid_row": null,
      "grid_template_areas": null,
      "grid_template_columns": null,
      "grid_template_rows": null,
      "height": null,
      "justify_content": null,
      "justify_items": null,
      "left": null,
      "margin": null,
      "max_height": null,
      "max_width": null,
      "min_height": null,
      "min_width": null,
      "object_fit": null,
      "object_position": null,
      "order": null,
      "overflow": null,
      "overflow_x": null,
      "overflow_y": null,
      "padding": null,
      "right": null,
      "top": null,
      "visibility": null,
      "width": null
     }
    }
   }
  }
 },
 "nbformat": 4,
 "nbformat_minor": 5
}
